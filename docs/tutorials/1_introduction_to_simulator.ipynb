{
 "cells": [
  {
   "attachments": {},
   "cell_type": "markdown",
   "id": "86bcd235",
   "metadata": {},
   "source": [
    "# Simulating Circuits with the Restless Simulator\n",
    "\n",
    "The restless simulator can be used to simulate restless circuit execution of single-qubit/qutrit\n",
    "circuits, where qubit/qutrit reset is skipped. This means that the input-state of a circuit may not\n",
    "be the ground state $\\ket{0}$. In this notebook you will learn how to create a restless simulator\n",
    "instance, how to simulate circuits with restless circuit execution, and how to post-process the\n",
    "restless data to recover the standard circuit-execution measurements.\n"
   ]
  },
  {
   "attachments": {},
   "cell_type": "markdown",
   "id": "f0d24530",
   "metadata": {},
   "source": [
    "## Running qubit circuits with restless\n"
   ]
  },
  {
   "cell_type": "code",
   "execution_count": 7,
   "id": "3c7004d5",
   "metadata": {},
   "outputs": [],
   "source": [
    "import matplotlib.pyplot as plt\n",
    "import numpy as np\n",
    "from qiskit import QuantumCircuit\n",
    "\n",
    "from restless_simulator.simulator import QutritRestlessSimulator"
   ]
  },
  {
   "attachments": {},
   "cell_type": "markdown",
   "id": "734365f3",
   "metadata": {},
   "source": [
    "You can construct a restless simulator from the `QutritRestlessSimulator` class. To demonstrate how\n",
    "the simulator works, we will create a series of single-qubit circuits with an initial $RX(\\pi/2)$\n",
    "gate and an increasing number of identical $RX(\\pi/3)$ gates. We do not need to add measurements as\n",
    "these are implicitly applied by the simulator. We will start with qubit gates. The simulator treats\n",
    "all qubits as qutrits and will automatically embed qubit-gates in SU(3) such that the $|2\\rangle$\n",
    "population never changes.\n"
   ]
  },
  {
   "cell_type": "code",
   "execution_count": 8,
   "id": "fe83e9ed",
   "metadata": {},
   "outputs": [],
   "source": [
    "simulator = QutritRestlessSimulator()"
   ]
  },
  {
   "attachments": {},
   "cell_type": "markdown",
   "id": "cbdf154d",
   "metadata": {},
   "source": [
    "Here we create 10 circuits with increasing number of $RX(\\pi/3)$ gates.\n"
   ]
  },
  {
   "cell_type": "code",
   "execution_count": 9,
   "id": "16aacde9",
   "metadata": {},
   "outputs": [],
   "source": [
    "circuits = []\n",
    "N_CIRCUITS = 10\n",
    "for n in range(N_CIRCUITS):\n",
    "    nth_circ = QuantumCircuit(1)\n",
    "    # Each circuit starts with an RX(pi/2) gate\n",
    "    nth_circ.rx(np.pi / 2, 0)\n",
    "    for _ in range(n):\n",
    "        nth_circ.rx(np.pi / 3, 0)\n",
    "    circuits.append(nth_circ)"
   ]
  },
  {
   "cell_type": "code",
   "execution_count": 10,
   "id": "cbb18db7",
   "metadata": {},
   "outputs": [
    {
     "data": {
      "text/html": [
       "<pre style=\"word-wrap: normal;white-space: pre;background: #fff0;line-height: 1.1;font-family: &quot;Courier New&quot;,Courier,monospace\">   ┌─────────┐┌─────────┐┌─────────┐┌─────────┐┌─────────┐┌─────────┐»\n",
       "q: ┤ Rx(π/2) ├┤ Rx(π/3) ├┤ Rx(π/3) ├┤ Rx(π/3) ├┤ Rx(π/3) ├┤ Rx(π/3) ├»\n",
       "   └─────────┘└─────────┘└─────────┘└─────────┘└─────────┘└─────────┘»\n",
       "«   ┌─────────┐┌─────────┐┌─────────┐┌─────────┐\n",
       "«q: ┤ Rx(π/3) ├┤ Rx(π/3) ├┤ Rx(π/3) ├┤ Rx(π/3) ├\n",
       "«   └─────────┘└─────────┘└─────────┘└─────────┘</pre>"
      ],
      "text/plain": [
       "   ┌─────────┐┌─────────┐┌─────────┐┌─────────┐┌─────────┐┌─────────┐»\n",
       "q: ┤ Rx(π/2) ├┤ Rx(π/3) ├┤ Rx(π/3) ├┤ Rx(π/3) ├┤ Rx(π/3) ├┤ Rx(π/3) ├»\n",
       "   └─────────┘└─────────┘└─────────┘└─────────┘└─────────┘└─────────┘»\n",
       "«   ┌─────────┐┌─────────┐┌─────────┐┌─────────┐\n",
       "«q: ┤ Rx(π/3) ├┤ Rx(π/3) ├┤ Rx(π/3) ├┤ Rx(π/3) ├\n",
       "«   └─────────┘└─────────┘└─────────┘└─────────┘"
      ]
     },
     "execution_count": 10,
     "metadata": {},
     "output_type": "execute_result"
    }
   ],
   "source": [
    "circuits[-1].draw()"
   ]
  },
  {
   "attachments": {},
   "cell_type": "markdown",
   "id": "f55f9279",
   "metadata": {},
   "source": [
    "We execute our circuits with the simulator by calling `run()`. The default configuration of the\n",
    "simulator will execute circuits with restless and without post-measurement error. This means that\n",
    "the post-measurement state is the collapsed measurement state. The simulator defaults to qubit\n",
    "discrimination, which labels the $|1\\rangle$ and $|2\\rangle$ states as the state-label \"1\". The\n",
    "returned `job` object contains all results for our circuit execution, but the measurement outcomes\n",
    "need to be post-processed to reconstruct the standard measurements (i.e., as if we had not used\n",
    "restless circuit execution).\n"
   ]
  },
  {
   "cell_type": "code",
   "execution_count": 11,
   "id": "d652bc39",
   "metadata": {},
   "outputs": [],
   "source": [
    "job = simulator.run(circuits)"
   ]
  },
  {
   "attachments": {},
   "cell_type": "markdown",
   "id": "1442c761",
   "metadata": {},
   "source": [
    "## Restless post-processing\n",
    "\n",
    "The `utils` submodule of the restless simulator package contains functions to run restless\n",
    "post-processing. They do the following:\n",
    "\n",
    "1.  `extract_memory`: Extracts a 2D array of single-shot measurement outcomes (i.e., memory) from a\n",
    "    job instance. If we used restless circuit execution, these outcomes would be the restless memory\n",
    "    outcomes. Later on we will see how to emulate standard circuit execution with the simulator.\n",
    "2.  `restless_memory_to_memory`: Converts restless memory outcomes to standard memory outcomes by\n",
    "    1.  reshaping the memory array into a time-ordered sequence of outcomes,\n",
    "    2.  taking the exclusive OR between successive measurement outcomes (as required by restless\n",
    "        circuit execution),\n",
    "    3.  and then reshaping the results to match the expected shape of a memory array (i.e., circuits\n",
    "        x shots).\n",
    "3.  `memory_to_probabilities`: Reconstructs the probability to measure an outcome based on the\n",
    "    number of occurrences of said outcome in a memory array.\n",
    "\n",
    "These three functions can be used in sequence to obtain the probability to measure $|0\\rangle$ for\n",
    "each circuit, even if restless circuit execution was used.\n"
   ]
  },
  {
   "cell_type": "code",
   "execution_count": 12,
   "id": "7f4f8700",
   "metadata": {},
   "outputs": [],
   "source": [
    "from restless_simulator.utils import (\n",
    "    extract_memory,\n",
    "    restless_memory_to_memory,\n",
    "    memory_to_probabilities,\n",
    ")\n"
   ]
  },
  {
   "attachments": {},
   "cell_type": "markdown",
   "id": "7de2fd15",
   "metadata": {},
   "source": [
    "Here we reconstruct the standard measurement outcomes from the restless measurement outcomes using\n",
    "the above functions.\n"
   ]
  },
  {
   "cell_type": "code",
   "execution_count": 13,
   "id": "b57a497a",
   "metadata": {},
   "outputs": [],
   "source": [
    "restless_outcomes = extract_memory(job)\n",
    "reconstructed_outcomes = restless_memory_to_memory(restless_outcomes)\n",
    "reconstructed_probs = memory_to_probabilities(reconstructed_outcomes)"
   ]
  },
  {
   "attachments": {},
   "cell_type": "markdown",
   "id": "eb55f63f",
   "metadata": {},
   "source": [
    "As a comparison, we also compute the outcome probabilities without restless post-processing step,\n",
    "i.e., `restless_memory_to_memory`. These probabilities should give us very little insight into the\n",
    "behaviour of the circuits as we have not corrected for the lack of qubit/qutrit reset.\n"
   ]
  },
  {
   "cell_type": "code",
   "execution_count": 14,
   "id": "75466cdd",
   "metadata": {},
   "outputs": [],
   "source": [
    "naive_probs = memory_to_probabilities(restless_outcomes)"
   ]
  },
  {
   "attachments": {},
   "cell_type": "markdown",
   "id": "2e2551fa",
   "metadata": {},
   "source": [
    "As our circuits contain repeated applications of the $RX(\\pi/3)$ gate, we know how to compute the\n",
    "ideal probabilities analytically. If we represent the probability to measure `\"0\"` $P_0[n]$ as a\n",
    "function of the number of $RX(\\pi/3)$ gates $n$, we get the following cosine.\n",
    "\n",
    "$$\n",
    "P_0[n] = \\frac{1}{2}\\cos{\\left(\\frac{\\pi}{3}n + \\frac{\\pi}{2}\\right)} + \\frac{1}{2}\n",
    "$$\n",
    "\n",
    "The additional phase in the cosine accounts for the initial $RX(\\pi/2)$ gate in the circuits.\n"
   ]
  },
  {
   "cell_type": "code",
   "execution_count": 15,
   "id": "687ae34a",
   "metadata": {},
   "outputs": [],
   "source": [
    "expected_probs = (\n",
    "    0.5 * np.cos(np.pi / 3 * np.arange(N_CIRCUITS, step=0.1) + np.pi / 2) + 0.5\n",
    ")"
   ]
  },
  {
   "attachments": {},
   "cell_type": "markdown",
   "id": "066b864e",
   "metadata": {},
   "source": [
    "Now we plot the\n",
    "1. reconstructed probabilities,\n",
    "2. naive probabilities (i.e., without restless post-processing),\n",
    "3. and the cosine function of the ideal probabilities, interpolated to real $n$ values.\n"
   ]
  },
  {
   "cell_type": "code",
   "execution_count": 19,
   "id": "525491f5",
   "metadata": {},
   "outputs": [
    {
     "data": {
      "text/plain": [
       "Text(0, 0.5, 'Probability to Measure $|0\\\\rangle$')"
      ]
     },
     "execution_count": 19,
     "metadata": {},
     "output_type": "execute_result"
    },
    {
     "data": {
      "image/png": "[encoded data removed]",
      "text/plain": [
       "<Figure size 640x480 with 1 Axes>"
      ]
     },
     "metadata": {},
     "output_type": "display_data"
    }
   ],
   "source": [
    "plt.plot(\n",
    "    np.arange(N_CIRCUITS, step=0.1),\n",
    "    expected_probs,\n",
    "    label=\"Ideal Probabilities\",\n",
    "    linestyle=\"--\",\n",
    ")\n",
    "plt.scatter(\n",
    "    range(N_CIRCUITS),\n",
    "    memory_to_probabilities(restless_memory_to_memory(extract_memory(job))),\n",
    "    label=\"Restless Probs. with post-processing\",\n",
    "    marker=\"x\",\n",
    "    color=\"r\",\n",
    ")\n",
    "plt.scatter(\n",
    "    range(N_CIRCUITS),\n",
    "    memory_to_probabilities(extract_memory(job)),\n",
    "    label=\"Restless Probs. without post-processing\",\n",
    "    marker=\"1\",\n",
    "    color=\"k\",\n",
    ")\n",
    "\n",
    "plt.legend(loc=\"lower center\", bbox_to_anchor=(0.5, 1.0), frameon=False)\n",
    "plt.xlabel(\"Number of $RX(\\\\pi/3)$ Gates\")\n",
    "plt.ylabel(\"Probability to Measure $|0\\\\rangle$\")"
   ]
  },
  {
   "attachments": {},
   "cell_type": "markdown",
   "id": "3a737786",
   "metadata": {},
   "source": [
    "As you can see, the expected probabilities are accurately recovered by applying restless\n",
    "post-processing on the restless measurements. Without this post-processing step, the measurement\n",
    "outcomes are all at roughly $0.5$, which gives us very little insight into the circuits' behaviour.\n"
   ]
  }
 ],
 "metadata": {
  "kernelspec": {
   "display_name": "qiskit",
   "language": "python",
   "name": "python3"
  },
  "language_info": {
   "codemirror_mode": {
    "name": "ipython",
    "version": 3
   },
   "file_extension": ".py",
   "mimetype": "text/x-python",
   "name": "python",
   "nbconvert_exporter": "python",
   "pygments_lexer": "ipython3",
   "version": "3.9.13"
  },
  "vscode": {
   "interpreter": {
    "hash": "7281ddead5fe03df6745d88d72a07b92756a5a2acff3df6ebb429c96bfe6298e"
   }
  }
 },
 "nbformat": 4,
 "nbformat_minor": 5
}
