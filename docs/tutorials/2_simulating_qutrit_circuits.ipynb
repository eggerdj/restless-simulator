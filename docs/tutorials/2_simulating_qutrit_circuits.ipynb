{
 "cells": [
  {
   "attachments": {},
   "cell_type": "markdown",
   "metadata": {},
   "source": [
    "# c\n",
    "\n",
    "The `QutritRestlessSimulator` supports circuits with qutrit instructions. These instructions can be\n",
    "unitary or general completely-positive trace-preserving maps. These two types are represented by the\n",
    "`QutritUnitaryGate` and `QutritQuantumChannelOperation` classes respectively.\n",
    "\n",
    "This tutorial covers how to create qutrit circuits and how to simulate them. We use the same types\n",
    "of circuits as in the introductory tutorial but with a leaky initial $R_X(\\pi/2)$ gate."
   ]
  },
  {
   "cell_type": "code",
   "execution_count": 1,
   "metadata": {},
   "outputs": [],
   "source": [
    "import matplotlib.pyplot as plt\n",
    "import numpy as np\n",
    "from qiskit import QuantumCircuit\n",
    "from qiskit.circuit.library import RXGate\n",
    "from qiskit.quantum_info import Kraus\n",
    "\n",
    "from restless_simulator.circuit import QutritQuantumChannelOperation, QutritUnitaryGate\n",
    "from restless_simulator.simulator import QutritRestlessSimulator"
   ]
  },
  {
   "cell_type": "code",
   "execution_count": 2,
   "metadata": {},
   "outputs": [],
   "source": [
    "# Create simulator\n",
    "simulator = QutritRestlessSimulator()"
   ]
  },
  {
   "attachments": {},
   "cell_type": "markdown",
   "metadata": {},
   "source": [
    "## Creating Qutrit Circuits\n",
    "\n",
    "Qutrit circuits are standard Qiskit `QuantumCircuit` instances but with special qutrit\n",
    "instructions, which we add using `QuantumCircuit.append`. The simulator supports mixed instructions,\n",
    "allowing for qubit and qutrit instructions to coexist in the same circuit. Qubit instructions will\n",
    "be converted from their $2\\times{}2$ unitaries to ideal $3\\times{}3$ unitaries."
   ]
  },
  {
   "attachments": {},
   "cell_type": "markdown",
   "metadata": {},
   "source": [
    "In this section we will look at creating a _leaky_ variant of the circuit in the `introduction to\n",
    "the simulator` tutorial, i.e., a leaky $R_X(\\pi/2)$ gate followed by a sequence of ideal $R_X(\\pi/3)$\n",
    "gates. The leaky gate will reduce the contrast of our measurements as the $|2\\rangle$ population\n",
    "will now be non-zero. The $R_X(\\pi/3)$ gates will not interact with the $|2\\rangle$-state population\n",
    "as they are ideal. The default measurement assignment for the simulator assigns the `\"1\"` label to\n",
    "the $|2\\rangle$ state, which means that by default it cannot distinguish between $|1\\rangle$ and\n",
    "$|2\\rangle$. This can be changed by setting the `meas_assignment_mat` option of the simulator.\n",
    "\n",
    "First we create a NumPy array of our leaky unitary gate as an ideal $R_X(\\pi/2)$ rotation between\n",
    "$|0\\rangle$ and $|1\\rangle$ and a small rotation from $|1\\rangle$ into the $|2\\rangle$ state. This\n",
    "final rotation is controlled by the `leakage_rotation` variable.\n"
   ]
  },
  {
   "cell_type": "code",
   "execution_count": 3,
   "metadata": {},
   "outputs": [],
   "source": [
    "# Variable to control leakage\n",
    "leakage_rotation = np.pi / 16\n",
    "# Construct leaky gate as two rotations.\n",
    "leaky_unitary = (\n",
    "    # very small rotation from |1> to |2>\n",
    "    np.array(\n",
    "        [\n",
    "            [1, 0, 0],\n",
    "            [0, np.cos(leakage_rotation / 2), -1j * np.sin(leakage_rotation / 2)],\n",
    "            [0, -1j * np.sin(leakage_rotation / 2), np.cos(leakage_rotation / 2)],\n",
    "        ],\n",
    "    )\n",
    "    # X-pi/2 rotation between |0> and |1>\n",
    "    @ np.array(\n",
    "        [\n",
    "            [np.cos(np.pi / 4), -1j * np.sin(np.pi / 4), 0],\n",
    "            [-1j * np.sin(np.pi / 4), np.cos(np.pi / 4), 0],\n",
    "            [0, 0, 1],\n",
    "        ]\n",
    "    )\n",
    ")\n"
   ]
  },
  {
   "attachments": {},
   "cell_type": "markdown",
   "metadata": {},
   "source": [
    "Now that we have our leaky unitary, we create an instance of `QutritUnitaryGate` with our unitary\n",
    "matrix. We then construct leaky circuits and use our leaky gate as the first gate. We also create\n",
    "circuits with an ideal $R_X(\\pi/2)$ gate against which we will compare our measurements.\n"
   ]
  },
  {
   "cell_type": "code",
   "execution_count": 4,
   "metadata": {},
   "outputs": [],
   "source": [
    "leaky_gate = QutritUnitaryGate(leaky_unitary, label=\"U(pi/2)\")\n",
    "ideal_gate = RXGate(np.pi / 2)\n"
   ]
  },
  {
   "cell_type": "code",
   "execution_count": 5,
   "metadata": {},
   "outputs": [],
   "source": [
    "N_CIRCUITS = 10\n",
    "leaky_circuits = []\n",
    "ideal_circuits = []\n",
    "for n in range(N_CIRCUITS):\n",
    "    # Create leaky circuit\n",
    "    nth_circ = QuantumCircuit(1)\n",
    "    # Add leaky gate to qubit/qutrit 0.\n",
    "    nth_circ.append(\n",
    "        leaky_gate,\n",
    "        [0],\n",
    "    )\n",
    "    # Add ideal qubit RX(pi/3) gates.\n",
    "    for _ in range(n):\n",
    "        nth_circ.rx(np.pi / 3, 0)\n",
    "    leaky_circuits.append(nth_circ)\n",
    "\n",
    "    # Create ideal circuit\n",
    "    nth_ideal_circ = QuantumCircuit(1)\n",
    "    nth_ideal_circ.append(\n",
    "        ideal_gate,\n",
    "        [0],\n",
    "    )\n",
    "    for _ in range(n):\n",
    "        nth_ideal_circ.rx(np.pi / 3, 0)\n",
    "    ideal_circuits.append(nth_ideal_circ)\n"
   ]
  },
  {
   "attachments": {},
   "cell_type": "markdown",
   "metadata": {},
   "source": [
    "Here we can compare the ideal and leaky circuits. Notice that only the first gate is different."
   ]
  },
  {
   "cell_type": "code",
   "execution_count": 6,
   "metadata": {},
   "outputs": [
    {
     "data": {
      "text/html": [
       "<pre style=\"word-wrap: normal;white-space: pre;background: #fff0;line-height: 1.1;font-family: &quot;Courier New&quot;,Courier,monospace\">   ┌─────────┐┌─────────┐┌─────────┐┌─────────┐┌─────────┐┌─────────┐»\n",
       "q: ┤ Rx(π/2) ├┤ Rx(π/3) ├┤ Rx(π/3) ├┤ Rx(π/3) ├┤ Rx(π/3) ├┤ Rx(π/3) ├»\n",
       "   └─────────┘└─────────┘└─────────┘└─────────┘└─────────┘└─────────┘»\n",
       "«   ┌─────────┐┌─────────┐┌─────────┐┌─────────┐\n",
       "«q: ┤ Rx(π/3) ├┤ Rx(π/3) ├┤ Rx(π/3) ├┤ Rx(π/3) ├\n",
       "«   └─────────┘└─────────┘└─────────┘└─────────┘</pre>"
      ],
      "text/plain": [
       "   ┌─────────┐┌─────────┐┌─────────┐┌─────────┐┌─────────┐┌─────────┐»\n",
       "q: ┤ Rx(π/2) ├┤ Rx(π/3) ├┤ Rx(π/3) ├┤ Rx(π/3) ├┤ Rx(π/3) ├┤ Rx(π/3) ├»\n",
       "   └─────────┘└─────────┘└─────────┘└─────────┘└─────────┘└─────────┘»\n",
       "«   ┌─────────┐┌─────────┐┌─────────┐┌─────────┐\n",
       "«q: ┤ Rx(π/3) ├┤ Rx(π/3) ├┤ Rx(π/3) ├┤ Rx(π/3) ├\n",
       "«   └─────────┘└─────────┘└─────────┘└─────────┘"
      ]
     },
     "execution_count": 6,
     "metadata": {},
     "output_type": "execute_result"
    }
   ],
   "source": [
    "ideal_circuits[-1].draw()"
   ]
  },
  {
   "cell_type": "code",
   "execution_count": 7,
   "metadata": {},
   "outputs": [
    {
     "data": {
      "text/html": [
       "<pre style=\"word-wrap: normal;white-space: pre;background: #fff0;line-height: 1.1;font-family: &quot;Courier New&quot;,Courier,monospace\">   ┌─────────┐┌─────────┐┌─────────┐┌─────────┐┌─────────┐┌─────────┐»\n",
       "q: ┤ U(pi/2) ├┤ Rx(π/3) ├┤ Rx(π/3) ├┤ Rx(π/3) ├┤ Rx(π/3) ├┤ Rx(π/3) ├»\n",
       "   └─────────┘└─────────┘└─────────┘└─────────┘└─────────┘└─────────┘»\n",
       "«   ┌─────────┐┌─────────┐┌─────────┐┌─────────┐\n",
       "«q: ┤ Rx(π/3) ├┤ Rx(π/3) ├┤ Rx(π/3) ├┤ Rx(π/3) ├\n",
       "«   └─────────┘└─────────┘└─────────┘└─────────┘</pre>"
      ],
      "text/plain": [
       "   ┌─────────┐┌─────────┐┌─────────┐┌─────────┐┌─────────┐┌─────────┐»\n",
       "q: ┤ U(pi/2) ├┤ Rx(π/3) ├┤ Rx(π/3) ├┤ Rx(π/3) ├┤ Rx(π/3) ├┤ Rx(π/3) ├»\n",
       "   └─────────┘└─────────┘└─────────┘└─────────┘└─────────┘└─────────┘»\n",
       "«   ┌─────────┐┌─────────┐┌─────────┐┌─────────┐\n",
       "«q: ┤ Rx(π/3) ├┤ Rx(π/3) ├┤ Rx(π/3) ├┤ Rx(π/3) ├\n",
       "«   └─────────┘└─────────┘└─────────┘└─────────┘"
      ]
     },
     "execution_count": 7,
     "metadata": {},
     "output_type": "execute_result"
    }
   ],
   "source": [
    "leaky_circuits[-1].draw()"
   ]
  },
  {
   "attachments": {},
   "cell_type": "markdown",
   "metadata": {},
   "source": [
    "## Simulating Qutrit Circuits"
   ]
  },
  {
   "attachments": {},
   "cell_type": "markdown",
   "metadata": {},
   "source": [
    "We simulate our circuits in exactly the same way as in the first tutorial \"Simulating Circuits with\n",
    "the Restless Simulator\". As we have not modified the measurement assignment matrix, our measurements\n",
    "default to qubit discrimination."
   ]
  },
  {
   "cell_type": "code",
   "execution_count": 8,
   "metadata": {},
   "outputs": [],
   "source": [
    "leaky_job = simulator.run(leaky_circuits)\n",
    "ideal_job = simulator.run(ideal_circuits)"
   ]
  },
  {
   "attachments": {},
   "cell_type": "markdown",
   "metadata": {},
   "source": [
    "## Results"
   ]
  },
  {
   "attachments": {},
   "cell_type": "markdown",
   "metadata": {},
   "source": [
    "To plot the results we use the restless post-processing functions provided in the `utils` module of\n",
    "the restless simulator package."
   ]
  },
  {
   "cell_type": "code",
   "execution_count": 9,
   "metadata": {},
   "outputs": [],
   "source": [
    "from restless_simulator.utils import (\n",
    "    extract_memory,\n",
    "    restless_memory_to_memory,\n",
    "    memory_to_probabilities,\n",
    ")\n"
   ]
  },
  {
   "attachments": {},
   "cell_type": "markdown",
   "metadata": {},
   "source": [
    "To compare against the expected results, we also compute the expected probabilities as was done in the introductory tutorial."
   ]
  },
  {
   "cell_type": "code",
   "execution_count": 10,
   "metadata": {},
   "outputs": [],
   "source": [
    "expected_probs = (\n",
    "    0.5 * np.cos(np.pi / 3 * np.arange(N_CIRCUITS, step=0.1) + np.pi / 2) + 0.5\n",
    ")"
   ]
  },
  {
   "attachments": {},
   "cell_type": "markdown",
   "metadata": {},
   "source": [
    "As you can see, the measurements with a leaky initial $R_X(\\pi/2)$ gate contaminate the measurement\n",
    "results and give values that deviate from the ideal. In the next tutorial, \"Standard Circuit\n",
    "Execution with the Restless Simulator\", you will see how the simulator can be used with standard\n",
    "circuit execution and how leakage accumulates during restless circuit execution."
   ]
  },
  {
   "cell_type": "code",
   "execution_count": 17,
   "metadata": {},
   "outputs": [
    {
     "data": {
      "text/plain": [
       "Text(0, 0.5, 'Probability to Measure $|0\\\\rangle$')"
      ]
     },
     "execution_count": 17,
     "metadata": {},
     "output_type": "execute_result"
    },
    {
     "data": {
      "image/png": "[encoded data removed]",
      "text/plain": [
       "<Figure size 640x480 with 1 Axes>"
      ]
     },
     "metadata": {},
     "output_type": "display_data"
    }
   ],
   "source": [
    "plt.scatter(\n",
    "    range(N_CIRCUITS),\n",
    "    memory_to_probabilities(restless_memory_to_memory(extract_memory(leaky_job))),\n",
    "    label=\"Leaky Initial Gate\",\n",
    "    marker=\"o\",\n",
    "    color=\"g\",\n",
    ")\n",
    "plt.scatter(\n",
    "    range(N_CIRCUITS),\n",
    "    memory_to_probabilities(restless_memory_to_memory(extract_memory(ideal_job))),\n",
    "    label=\"Ideal Initial Gate\",\n",
    "    marker=\"x\",\n",
    "    color=\"r\",\n",
    ")\n",
    "plt.plot(np.arange(N_CIRCUITS, step=0.1), expected_probs, linestyle=\"--\", label=\"Ideal Probabilities\")\n",
    "plt.legend(loc=\"lower center\", bbox_to_anchor=(0.5, 1.0), frameon=False, ncols=3)\n",
    "plt.xlabel(\"Number of $R_X(\\\\pi/3)$ Gates\")\n",
    "plt.ylabel(\"Probability to Measure $|0\\\\rangle$\")"
   ]
  }
 ],
 "metadata": {
  "kernelspec": {
   "display_name": "qiskit",
   "language": "python",
   "name": "python3"
  },
  "language_info": {
   "codemirror_mode": {
    "name": "ipython",
    "version": 3
   },
   "file_extension": ".py",
   "mimetype": "text/x-python",
   "name": "python",
   "nbconvert_exporter": "python",
   "pygments_lexer": "ipython3",
   "version": "3.9.13"
  },
  "orig_nbformat": 4
 },
 "nbformat": 4,
 "nbformat_minor": 2
}
