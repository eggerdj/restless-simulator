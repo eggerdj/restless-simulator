{
 "cells": [
  {
   "attachments": {},
   "cell_type": "markdown",
   "metadata": {},
   "source": [
    "# Standard Circuit Execution with the Restless Simulator\n",
    "\n",
    "If we want, we can emulate qubit/qutrit reset with the `QutritRestlessSimulator` by modifying the\n",
    "post-measurement transition matrix to implement reset. This allows us to execute qutrit circuits\n",
    "with standard circuit execution. The post-measurement transition matrix is a matrix that is applied\n",
    "to the quantum states after the measurement to account for effects like measurement back-action and\n",
    "potentially reset. \n",
    "\n",
    "`QutritRestlessSimulator` simulates circuits using transition matrices, which capture measurement\n",
    "probabilities as a Markov Chain. It also simulates post-measurement error as a transition matrix.\n",
    "This matrix, for a single qutrit, contains the probabilities $\\{p_{ij}\\}$ to have state $|i\\rangle$\n",
    "as the output given state $|j\\rangle$ as the input. The post-measurement transition matrix is given\n",
    "as\n",
    "\n",
    "$$\n",
    "P_k = \\begin{pmatrix}\n",
    "p_{00}  &   p_{01}  &   p_{02}  \\\\\n",
    "p_{10}  &   p_{11}  &   p_{12}  \\\\\n",
    "p_{20}  &   p_{21}  &   p_{22}  \\\\\n",
    "\\end{pmatrix}.\n",
    "$$\n",
    "\n",
    "To implement reset, we set the post-measurement transition matrix such that the probability to have\n",
    "the ground-state as the output $P_{0j}$ is always equal to one, i.e.,\n",
    "\n",
    "$$ P_{reset}=\\begin{pmatrix}\n",
    "1&1&1\\\\\n",
    "0&0&0\\\\\n",
    "0&0&0\\\\\n",
    "\\end{pmatrix}.\n",
    "$$\n",
    "\n",
    "We pass this post-measurement transition matrix to the simulator in `run()` as the\n",
    "`meas_transition_mats` parameter. Passing a single 3x3 NumPy array will use the same transition\n",
    "matrix for each circuit. We can also pass a list of matrices, which tells the simulator to match\n",
    "each circuit with a corresponding array in said list.\n"
   ]
  },
  {
   "attachments": {},
   "cell_type": "markdown",
   "metadata": {},
   "source": [
    "To demonstrate standard circuit execution with the simulator, we will use the same circuits from the\n",
    "introductory tutorial and the tutorial on simulating qutrit circuits. We will then execute the leaky\n",
    "circuits with restless and with standard circuit execution and compare them with the ideal circuit\n",
    "results."
   ]
  },
  {
   "cell_type": "code",
   "execution_count": 1,
   "metadata": {},
   "outputs": [],
   "source": [
    "import matplotlib.pyplot as plt\n",
    "import numpy as np\n",
    "from qiskit import QuantumCircuit\n",
    "from qiskit.circuit.library import RXGate\n",
    "from qiskit.quantum_info import Kraus\n",
    "\n",
    "from restless_simulator.circuit import QutritQuantumChannelOperation, QutritUnitaryGate\n",
    "from restless_simulator.simulator import QutritRestlessSimulator"
   ]
  },
  {
   "cell_type": "code",
   "execution_count": 2,
   "metadata": {},
   "outputs": [],
   "source": [
    "# Create simulator\n",
    "simulator = QutritRestlessSimulator()"
   ]
  },
  {
   "attachments": {},
   "cell_type": "markdown",
   "metadata": {},
   "source": [
    "## Create ideal and leaky circuits\n",
    "\n",
    "Here we create ideal and leaky $R_X$ gates, i.e., instructions, to be used in circuits. They have\n",
    "the same structure and construction as the ideal and leaky gates from the second tutorial titled\n",
    "\"Simulating Qutrit Circuits\"."
   ]
  },
  {
   "attachments": {},
   "cell_type": "markdown",
   "metadata": {},
   "source": [
    "### Create leaky and ideal $R_X(\\pi/2)$ gates"
   ]
  },
  {
   "cell_type": "code",
   "execution_count": 3,
   "metadata": {},
   "outputs": [],
   "source": [
    "# Create leaky unitary\n",
    "\n",
    "# Variable to control leakage\n",
    "leakage_rotation = np.pi / 16\n",
    "# Construct leaky gate as two rotations.\n",
    "leaky_unitary = (\n",
    "    # very small rotation from |1> to |2>\n",
    "    np.array(\n",
    "        [\n",
    "            [1, 0, 0],\n",
    "            [0, np.cos(leakage_rotation / 2), -1j * np.sin(leakage_rotation / 2)],\n",
    "            [0, -1j * np.sin(leakage_rotation / 2), np.cos(leakage_rotation / 2)],\n",
    "        ],\n",
    "    )\n",
    "    # X-pi/2 rotation between |0> and |1>\n",
    "    @ np.array(\n",
    "        [\n",
    "            [np.cos(np.pi / 4), -1j * np.sin(np.pi / 4), 0],\n",
    "            [-1j * np.sin(np.pi / 4), np.cos(np.pi / 4), 0],\n",
    "            [0, 0, 1],\n",
    "        ]\n",
    "    )\n",
    ")\n"
   ]
  },
  {
   "cell_type": "code",
   "execution_count": 4,
   "metadata": {},
   "outputs": [],
   "source": [
    "leaky_gate = QutritUnitaryGate(leaky_unitary, label=\"U(pi/2)\")\n",
    "ideal_gate = RXGate(np.pi / 2)\n"
   ]
  },
  {
   "attachments": {},
   "cell_type": "markdown",
   "metadata": {},
   "source": [
    "### Create circuits\n"
   ]
  },
  {
   "cell_type": "code",
   "execution_count": 5,
   "metadata": {},
   "outputs": [],
   "source": [
    "N_CIRCUITS = 10\n",
    "leaky_circuits = []\n",
    "ideal_circuits = []\n",
    "for n in range(N_CIRCUITS):\n",
    "    # Create leaky circuit\n",
    "    nth_circ = QuantumCircuit(1)\n",
    "    # Add leaky gate to qubit/qutrit 0.\n",
    "    nth_circ.append(\n",
    "        leaky_gate,\n",
    "        [0],\n",
    "    )\n",
    "    # Add ideal qubit RX(pi/3) gates.\n",
    "    for _ in range(n):\n",
    "        nth_circ.rx(np.pi / 3, 0)\n",
    "    leaky_circuits.append(nth_circ)\n",
    "\n",
    "    # Create ideal circuit\n",
    "    nth_ideal_circ = QuantumCircuit(1)\n",
    "    nth_ideal_circ.append(\n",
    "        ideal_gate,\n",
    "        [0],\n",
    "    )\n",
    "    for _ in range(n):\n",
    "        nth_ideal_circ.rx(np.pi / 3, 0)\n",
    "    ideal_circuits.append(nth_ideal_circ)\n"
   ]
  },
  {
   "cell_type": "code",
   "execution_count": 6,
   "metadata": {},
   "outputs": [
    {
     "data": {
      "text/html": [
       "<pre style=\"word-wrap: normal;white-space: pre;background: #fff0;line-height: 1.1;font-family: &quot;Courier New&quot;,Courier,monospace\">   ┌─────────┐┌─────────┐┌─────────┐┌─────────┐┌─────────┐\n",
       "q: ┤ Rx(π/2) ├┤ Rx(π/3) ├┤ Rx(π/3) ├┤ Rx(π/3) ├┤ Rx(π/3) ├\n",
       "   └─────────┘└─────────┘└─────────┘└─────────┘└─────────┘</pre>"
      ],
      "text/plain": [
       "   ┌─────────┐┌─────────┐┌─────────┐┌─────────┐┌─────────┐\n",
       "q: ┤ Rx(π/2) ├┤ Rx(π/3) ├┤ Rx(π/3) ├┤ Rx(π/3) ├┤ Rx(π/3) ├\n",
       "   └─────────┘└─────────┘└─────────┘└─────────┘└─────────┘"
      ]
     },
     "execution_count": 6,
     "metadata": {},
     "output_type": "execute_result"
    }
   ],
   "source": [
    "ideal_circuits[4].draw()"
   ]
  },
  {
   "cell_type": "code",
   "execution_count": 7,
   "metadata": {},
   "outputs": [
    {
     "data": {
      "text/html": [
       "<pre style=\"word-wrap: normal;white-space: pre;background: #fff0;line-height: 1.1;font-family: &quot;Courier New&quot;,Courier,monospace\">   ┌─────────┐┌─────────┐┌─────────┐┌─────────┐┌─────────┐\n",
       "q: ┤ U(pi/2) ├┤ Rx(π/3) ├┤ Rx(π/3) ├┤ Rx(π/3) ├┤ Rx(π/3) ├\n",
       "   └─────────┘└─────────┘└─────────┘└─────────┘└─────────┘</pre>"
      ],
      "text/plain": [
       "   ┌─────────┐┌─────────┐┌─────────┐┌─────────┐┌─────────┐\n",
       "q: ┤ U(pi/2) ├┤ Rx(π/3) ├┤ Rx(π/3) ├┤ Rx(π/3) ├┤ Rx(π/3) ├\n",
       "   └─────────┘└─────────┘└─────────┘└─────────┘└─────────┘"
      ]
     },
     "execution_count": 7,
     "metadata": {},
     "output_type": "execute_result"
    }
   ],
   "source": [
    "leaky_circuits[4].draw()"
   ]
  },
  {
   "attachments": {},
   "cell_type": "markdown",
   "metadata": {},
   "source": [
    "## Simulate with and without restless"
   ]
  },
  {
   "attachments": {},
   "cell_type": "markdown",
   "metadata": {},
   "source": [
    "Here we create our post-measurement transition matrix that implements qutrit reset."
   ]
  },
  {
   "cell_type": "code",
   "execution_count": 15,
   "metadata": {},
   "outputs": [],
   "source": [
    "# Create qutrit-reset transition matrix.\n",
    "P_reset = np.array(\n",
    "    [\n",
    "        [1, 1, 1],\n",
    "        [0, 0, 0],\n",
    "        [0, 0, 0],\n",
    "    ]\n",
    ")\n"
   ]
  },
  {
   "attachments": {},
   "cell_type": "markdown",
   "metadata": {},
   "source": [
    "### Simulate all configurations\n",
    "\n",
    "Now we simulate the leaky circuits with and without restless to show how qutrit reset impacts\n",
    "measurement outcomes."
   ]
  },
  {
   "cell_type": "code",
   "execution_count": 9,
   "metadata": {},
   "outputs": [],
   "source": [
    "# Execute leaky circuits with restless circuit execution.\n",
    "restless_leaky_job = simulator.run(leaky_circuits)\n",
    "\n",
    "# Execute leaky circuits with standard circuit execution.\n",
    "standard_leaky_job = simulator.run(leaky_circuits, meas_transition_mats=P_reset)\n"
   ]
  },
  {
   "cell_type": "code",
   "execution_count": 10,
   "metadata": {},
   "outputs": [],
   "source": [
    "# Create expected probabilities array in the same way as with the previous tutorials.\n",
    "expected_probs = (\n",
    "    0.5 * np.cos(np.pi / 3 * np.arange(N_CIRCUITS, step=0.1) + np.pi / 2) + 0.5\n",
    ")"
   ]
  },
  {
   "attachments": {},
   "cell_type": "markdown",
   "metadata": {},
   "source": [
    "If we plot the measurement probabilities with restless and standard circuit execution, we see that\n",
    "standard circuit execution results in probabilities that are close to the expected ideal (i.e., the\n",
    "cosine plot). This shows us that restless circuit execution is sensitive to leakage and that qutrit\n",
    "reset mitigates the impact of leakage on measurement outcomes. Running a circuit with restless comes\n",
    "with the cost of increased sensitivity and susceptibility to leakage into the $|2\\rangle{}$ state.\n"
   ]
  },
  {
   "cell_type": "code",
   "execution_count": 11,
   "metadata": {},
   "outputs": [],
   "source": [
    "from restless_simulator.utils import (\n",
    "    extract_memory,\n",
    "    restless_memory_to_memory,\n",
    "    memory_to_probabilities,\n",
    ")\n"
   ]
  },
  {
   "cell_type": "code",
   "execution_count": 12,
   "metadata": {},
   "outputs": [
    {
     "data": {
      "text/plain": [
       "Text(0, 0.5, 'Probability to Measure $|0\\\\rangle$')"
      ]
     },
     "execution_count": 12,
     "metadata": {},
     "output_type": "execute_result"
    },
    {
     "data": {
      "image/png": "[encoded data removed]",
      "text/plain": [
       "<Figure size 640x480 with 1 Axes>"
      ]
     },
     "metadata": {},
     "output_type": "display_data"
    }
   ],
   "source": [
    "plt.scatter(\n",
    "    range(N_CIRCUITS),\n",
    "    memory_to_probabilities(\n",
    "        restless_memory_to_memory(extract_memory(restless_leaky_job))\n",
    "    ),\n",
    "    label=\"Leaky (Restless)\",\n",
    "    marker=\"o\",\n",
    "    color=\"g\",\n",
    ")\n",
    "plt.scatter(\n",
    "    range(N_CIRCUITS),\n",
    "    memory_to_probabilities(extract_memory(standard_leaky_job)),\n",
    "    label=\"Leaky (Standard)\",\n",
    "    marker=\"x\",\n",
    "    color=\"r\",\n",
    ")\n",
    "plt.plot(\n",
    "    np.arange(N_CIRCUITS, step=0.1),\n",
    "    expected_probs,\n",
    "    linestyle=\"--\",\n",
    "    label=\"Ideal Probabilities\",\n",
    ")\n",
    "plt.legend()\n",
    "plt.xlabel(\"Number of $R_X(\\\\pi/3)$ Gates\")\n",
    "plt.ylabel(\"Probability to Measure $|0\\\\rangle$\")\n"
   ]
  },
  {
   "attachments": {},
   "cell_type": "markdown",
   "metadata": {},
   "source": [
    "## Accumulated leakage during restless vs standard circuit execution"
   ]
  },
  {
   "attachments": {},
   "cell_type": "markdown",
   "metadata": {},
   "source": [
    "If we want to investigate the measurement states prior to measurement assignment, which can be used\n",
    "to determine the accumulated leakage during an experiment, we can pass `return_meas_state=True` to\n",
    "the simulator's `run()` method. The returned job object will then contain lists of measurement\n",
    "labels which indicate the collapsed state prior to measurement assignment error. These are the\n",
    "qutrit state labels '0', '1', and '2'. We can access these by calling `meas_state` on a result\n",
    "instance, retrieved from `job.results()`. As we execute 10 circuits, there are 10 result instances;\n",
    "each with a `meas_state` list.\n",
    "\n",
    "Below we\n",
    "1. execute circuits with and without qutrit reset and with `return_meas_state=True`,\n",
    "2. collect the collapsed measurement state labels into a single array,\n",
    "3. and compute the accumulated leakage for the measurement outcomes.\n",
    "\n",
    "This allows us to compare the frequency of the $|2\\rangle$ state in our measurements with standard\n",
    "and restless circuit execution.\n"
   ]
  },
  {
   "cell_type": "code",
   "execution_count": 16,
   "metadata": {},
   "outputs": [],
   "source": [
    "# Execute with qutrit reset\n",
    "standard_job_meas_state = simulator.run(\n",
    "    leaky_circuits, meas_transition_mats=P_reset, return_meas_state=True\n",
    ")\n",
    "\n",
    "# Execute with restless and without qutrit reset\n",
    "restless_job_meas_state = simulator.run(leaky_circuits, return_meas_state=True)"
   ]
  },
  {
   "cell_type": "code",
   "execution_count": 21,
   "metadata": {},
   "outputs": [
    {
     "name": "stdout",
     "output_type": "stream",
     "text": [
      "Average accumulated leakage levels were 0.004248 for standard execution and 0.3187 for restless.\n"
     ]
    }
   ],
   "source": [
    "# Collect collapsed measurement state labels\n",
    "standard_measurement_states = np.array(\n",
    "    [result.meas_state for result in standard_job_meas_state.result().results]\n",
    ").astype(str)\n",
    "restless_measurement_states = np.array(\n",
    "    [result.meas_state for result in restless_job_meas_state.result().results]\n",
    ").astype(str)\n",
    "\n",
    "# Compute level of accumulatd |2>-state population\n",
    "standard_leakage_accumulated = (\n",
    "    np.sum(standard_measurement_states == \"2\") / standard_measurement_states.size\n",
    ")\n",
    "restless_leakage_accumulated = (\n",
    "    np.sum(restless_measurement_states == \"2\") / restless_measurement_states.size\n",
    ")\n",
    "print(\n",
    "    f\"Average accumulated leakage levels were {standard_leakage_accumulated:0.4g} for standard \"\n",
    "    f\"execution and {restless_leakage_accumulated:0.4g} for restless.\"\n",
    ")\n"
   ]
  },
  {
   "attachments": {},
   "cell_type": "markdown",
   "metadata": {},
   "source": [
    "As we see in the above leakage rates, standard circuit execution suppresses the rate at which we\n",
    "would measure the $|2\\rangle$ state. If our circuits were less leaky, these rates would be lower.\n",
    "Though restless circuit execution is impacted by leakage, it does give us a large increase in\n",
    "circuit execution speed. Before running a leaky or leakage-sensitive experiment with restless\n",
    "circuit execution, you should make sure to analyse the trade-off between the speed gain and the\n",
    "negative impact of leakage on the measurement outcomes.\n"
   ]
  }
 ],
 "metadata": {
  "kernelspec": {
   "display_name": "qiskit",
   "language": "python",
   "name": "python3"
  },
  "language_info": {
   "codemirror_mode": {
    "name": "ipython",
    "version": 3
   },
   "file_extension": ".py",
   "mimetype": "text/x-python",
   "name": "python",
   "nbconvert_exporter": "python",
   "pygments_lexer": "ipython3",
   "version": "3.9.13"
  },
  "orig_nbformat": 4
 },
 "nbformat": 4,
 "nbformat_minor": 2
}
