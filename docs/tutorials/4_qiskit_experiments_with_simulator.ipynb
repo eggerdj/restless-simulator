{
 "cells": [
  {
   "attachments": {},
   "cell_type": "markdown",
   "metadata": {},
   "source": [
    "# Using the Restless Simulator with a Fine-Amplitude Experiment from Qiskit Experiments"
   ]
  },
  {
   "attachments": {},
   "cell_type": "markdown",
   "metadata": {},
   "source": [
    "The `QutritRestlessSimulator` is compatible with [Qiskit\n",
    "Experiments](https://qiskit.org/documentation/experiments/), allowing you to simulate experiments in\n",
    "a restless manner. Qiskit Experiments contains classes which define experiments, such as\n",
    "`FineXAmplitude` which is used to improve the fidelities of the single-qubit $X$ gate.\n",
    "\n",
    "In this tutorial you will see how `QutritRestlessSimulator` can be used as a backend for experiments\n",
    "in Qiskit Experiments. This tutorial does not simulate qutrit circuits, but does cover the steps\n",
    "needed to update an experiment to use qutrit gates."
   ]
  },
  {
   "cell_type": "code",
   "execution_count": 1,
   "metadata": {},
   "outputs": [],
   "source": [
    "import numpy as np\n",
    "# Import FineXAmplitude experiment\n",
    "from qiskit_experiments.library import FineXAmplitude\n",
    "\n",
    "from restless_simulator.circuit import QutritQuantumChannelOperation, QutritUnitaryGate\n",
    "from restless_simulator.quantum_info import amplitude_damping_channel\n",
    "from restless_simulator.simulator import QutritRestlessSimulator\n"
   ]
  },
  {
   "cell_type": "code",
   "execution_count": 2,
   "metadata": {},
   "outputs": [],
   "source": [
    "# Create simulator\n",
    "simulator = QutritRestlessSimulator()"
   ]
  },
  {
   "attachments": {},
   "cell_type": "markdown",
   "metadata": {},
   "source": [
    "## Create FineXAmplitude experiment\n",
    "\n",
    "Here we create a FineXAmplitude experiment on qubit $0$. Each circuit contains an increasing number\n",
    "of $X$ gates, which are used to amplify rotation errors on the Bloch sphere arising from\n",
    "inaccuracies in pulse calibrations."
   ]
  },
  {
   "cell_type": "code",
   "execution_count": 3,
   "metadata": {},
   "outputs": [],
   "source": [
    "# Create experiment instance\n",
    "experiment = FineXAmplitude([0], backend=simulator)"
   ]
  },
  {
   "attachments": {},
   "cell_type": "markdown",
   "metadata": {},
   "source": [
    "The `FineXAmplitude` circuits contain an initial $\\sqrt{X}$-gate to increase the sensitivity of the\n",
    "experiment."
   ]
  },
  {
   "cell_type": "code",
   "execution_count": 4,
   "metadata": {},
   "outputs": [
    {
     "data": {
      "text/html": [
       "<pre style=\"word-wrap: normal;white-space: pre;background: #fff0;line-height: 1.1;font-family: &quot;Courier New&quot;,Courier,monospace\">     ┌────┐┌───┐┌───┐┌─┐\n",
       "  q: ┤ √X ├┤ X ├┤ X ├┤M├\n",
       "     └────┘└───┘└───┘└╥┘\n",
       "c: 1/═════════════════╩═\n",
       "                      0 </pre>"
      ],
      "text/plain": [
       "     ┌────┐┌───┐┌───┐┌─┐\n",
       "  q: ┤ √X ├┤ X ├┤ X ├┤M├\n",
       "     └────┘└───┘└───┘└╥┘\n",
       "c: 1/═════════════════╩═\n",
       "                      0 "
      ]
     },
     "execution_count": 4,
     "metadata": {},
     "output_type": "execute_result"
    }
   ],
   "source": [
    "# Preview circuits\n",
    "experiment.circuits()[3].draw()"
   ]
  },
  {
   "attachments": {},
   "cell_type": "markdown",
   "metadata": {},
   "source": [
    "### Disabling transpilation"
   ]
  },
  {
   "attachments": {},
   "cell_type": "markdown",
   "metadata": {},
   "source": [
    "Unfortunately, the transpiling process in experiments can cause issues with the simulator. For this\n",
    "reason we [Monkey Patch](https://en.wikipedia.org/wiki/Monkey_patch) the `_transpiled_circuits`\n",
    "method of the experiment to return the un-transpiled circuits. This is done below."
   ]
  },
  {
   "cell_type": "code",
   "execution_count": 5,
   "metadata": {},
   "outputs": [],
   "source": [
    "experiment._transpiled_circuits = experiment.circuits"
   ]
  },
  {
   "attachments": {},
   "cell_type": "markdown",
   "metadata": {},
   "source": [
    "## Simulating the experiment"
   ]
  },
  {
   "attachments": {},
   "cell_type": "markdown",
   "metadata": {},
   "source": [
    "Qiskit Experiments allows users to run experiments by calling `experiment.run()`, which makes the\n",
    "execution of experiments simple and easy. The `run()` method returns an `ExperimentData` instance\n",
    "containing the post-processed results. To run our experiment with restless, we need to enable\n",
    "restless on the experiment using `.enable_restless`."
   ]
  },
  {
   "cell_type": "code",
   "execution_count": 6,
   "metadata": {},
   "outputs": [],
   "source": [
    "# Enable restless\n",
    "experiment.enable_restless()"
   ]
  },
  {
   "attachments": {},
   "cell_type": "markdown",
   "metadata": {},
   "source": [
    "As we passed the simulator to the experiment upon construction, we do not need to call\n",
    "`simulator.run`. Instead we call `experiment.run()`."
   ]
  },
  {
   "cell_type": "code",
   "execution_count": 7,
   "metadata": {},
   "outputs": [],
   "source": [
    "experiment.set_transpile_options(basis_gates=None)"
   ]
  },
  {
   "cell_type": "code",
   "execution_count": 8,
   "metadata": {},
   "outputs": [
    {
     "data": {
      "text/plain": [
       "Options(optimization_level=0, basis_gates=None)"
      ]
     },
     "execution_count": 8,
     "metadata": {},
     "output_type": "execute_result"
    }
   ],
   "source": [
    "experiment.transpile_options"
   ]
  },
  {
   "attachments": {},
   "cell_type": "markdown",
   "metadata": {},
   "source": [
    "The simulator will raise some warnings, which relate to backend options that are not supported. These can be ignored."
   ]
  },
  {
   "cell_type": "code",
   "execution_count": 9,
   "metadata": {},
   "outputs": [
    {
     "name": "stderr",
     "output_type": "stream",
     "text": [
      "/home/conrad/OneDrive/Documents/Work/IBM_Zurich_Internship_2022/Projects/restless-simulator/restless_simulator/simulator/qutrit_restless_simulator.py:717: UserWarning: Options field meas_level is not valid for this backend\n",
      "  self.set_options(**kwargs)\n",
      "/home/conrad/OneDrive/Documents/Work/IBM_Zurich_Internship_2022/Projects/restless-simulator/restless_simulator/simulator/qutrit_restless_simulator.py:717: UserWarning: Options field rep_delay is not valid for this backend\n",
      "  self.set_options(**kwargs)\n",
      "/home/conrad/OneDrive/Documents/Work/IBM_Zurich_Internship_2022/Projects/restless-simulator/restless_simulator/simulator/qutrit_restless_simulator.py:717: UserWarning: Options field init_qubits is not valid for this backend\n",
      "  self.set_options(**kwargs)\n",
      "/home/conrad/OneDrive/Documents/Work/IBM_Zurich_Internship_2022/Projects/restless-simulator/restless_simulator/simulator/qutrit_restless_simulator.py:717: UserWarning: Options field memory is not valid for this backend\n",
      "  self.set_options(**kwargs)\n",
      "/home/conrad/OneDrive/Documents/Work/IBM_Zurich_Internship_2022/Projects/restless-simulator/restless_simulator/simulator/qutrit_restless_simulator.py:717: UserWarning: Options field meas_return is not valid for this backend\n",
      "  self.set_options(**kwargs)\n",
      "/home/conrad/OneDrive/Documents/Work/IBM_Zurich_Internship_2022/Projects/restless-simulator/restless_simulator/simulator/qutrit_restless_simulator.py:717: UserWarning: Options field use_measure_esp is not valid for this backend\n",
      "  self.set_options(**kwargs)\n"
     ]
    }
   ],
   "source": [
    "exp_data = experiment.run(simulator)"
   ]
  },
  {
   "attachments": {},
   "cell_type": "markdown",
   "metadata": {},
   "source": [
    "Now we can plot the results from the experiment data instance to see the simulated measurement outcomes."
   ]
  },
  {
   "cell_type": "code",
   "execution_count": 10,
   "metadata": {},
   "outputs": [
    {
     "ename": "ExperimentEntryNotFound",
     "evalue": "'Figure 0 not found.'",
     "output_type": "error",
     "traceback": [
      "\u001b[0;31m---------------------------------------------------------------------------\u001b[0m",
      "\u001b[0;31mExperimentEntryNotFound\u001b[0m                   Traceback (most recent call last)",
      "\u001b[0;32m/tmp/ipykernel_23795/3121580375.py\u001b[0m in \u001b[0;36m<module>\u001b[0;34m\u001b[0m\n\u001b[0;32m----> 1\u001b[0;31m \u001b[0mexp_data\u001b[0m\u001b[0;34m.\u001b[0m\u001b[0mfigure\u001b[0m\u001b[0;34m(\u001b[0m\u001b[0;36m0\u001b[0m\u001b[0;34m)\u001b[0m\u001b[0;34m\u001b[0m\u001b[0;34m\u001b[0m\u001b[0m\n\u001b[0m",
      "\u001b[0;32m~/Repos/qiskit-experiments/qiskit_experiments/framework/experiment_data.py\u001b[0m in \u001b[0;36mfigure\u001b[0;34m(self, figure_key, file_name)\u001b[0m\n\u001b[1;32m   1144\u001b[0m         \u001b[0;32mif\u001b[0m \u001b[0misinstance\u001b[0m\u001b[0;34m(\u001b[0m\u001b[0mfigure_key\u001b[0m\u001b[0;34m,\u001b[0m \u001b[0mint\u001b[0m\u001b[0;34m)\u001b[0m\u001b[0;34m:\u001b[0m\u001b[0;34m\u001b[0m\u001b[0;34m\u001b[0m\u001b[0m\n\u001b[1;32m   1145\u001b[0m             \u001b[0;32mif\u001b[0m \u001b[0mfigure_key\u001b[0m \u001b[0;34m<\u001b[0m \u001b[0;36m0\u001b[0m \u001b[0;32mor\u001b[0m \u001b[0mfigure_key\u001b[0m \u001b[0;34m>=\u001b[0m \u001b[0mlen\u001b[0m\u001b[0;34m(\u001b[0m\u001b[0mself\u001b[0m\u001b[0;34m.\u001b[0m\u001b[0m_figures\u001b[0m\u001b[0;34m.\u001b[0m\u001b[0mkeys\u001b[0m\u001b[0;34m(\u001b[0m\u001b[0;34m)\u001b[0m\u001b[0;34m)\u001b[0m\u001b[0;34m:\u001b[0m\u001b[0;34m\u001b[0m\u001b[0;34m\u001b[0m\u001b[0m\n\u001b[0;32m-> 1146\u001b[0;31m                 \u001b[0;32mraise\u001b[0m \u001b[0mExperimentEntryNotFound\u001b[0m\u001b[0;34m(\u001b[0m\u001b[0;34mf\"Figure {figure_key} not found.\"\u001b[0m\u001b[0;34m)\u001b[0m\u001b[0;34m\u001b[0m\u001b[0;34m\u001b[0m\u001b[0m\n\u001b[0m\u001b[1;32m   1147\u001b[0m             \u001b[0mfigure_key\u001b[0m \u001b[0;34m=\u001b[0m \u001b[0mself\u001b[0m\u001b[0;34m.\u001b[0m\u001b[0m_figures\u001b[0m\u001b[0;34m.\u001b[0m\u001b[0mkeys\u001b[0m\u001b[0;34m(\u001b[0m\u001b[0;34m)\u001b[0m\u001b[0;34m[\u001b[0m\u001b[0mfigure_key\u001b[0m\u001b[0;34m]\u001b[0m\u001b[0;34m\u001b[0m\u001b[0;34m\u001b[0m\u001b[0m\n\u001b[1;32m   1148\u001b[0m \u001b[0;34m\u001b[0m\u001b[0m\n",
      "\u001b[0;31mExperimentEntryNotFound\u001b[0m: 'Figure 0 not found.'"
     ]
    }
   ],
   "source": [
    "exp_data.figure(0)"
   ]
  }
 ],
 "metadata": {
  "kernelspec": {
   "display_name": "qiskit",
   "language": "python",
   "name": "python3"
  },
  "language_info": {
   "codemirror_mode": {
    "name": "ipython",
    "version": 3
   },
   "file_extension": ".py",
   "mimetype": "text/x-python",
   "name": "python",
   "nbconvert_exporter": "python",
   "pygments_lexer": "ipython3",
   "version": "3.9.13"
  },
  "orig_nbformat": 4
 },
 "nbformat": 4,
 "nbformat_minor": 2
}
